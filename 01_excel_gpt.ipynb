{
 "cells": [
  {
   "cell_type": "code",
   "execution_count": null,
   "id": "e5f9e876-3977-4bf9-a2fd-bff5932185aa",
   "metadata": {},
   "outputs": [],
   "source": [
    "import pandas as pd"
   ]
  },
  {
   "cell_type": "code",
   "execution_count": null,
   "id": "6a8761f3-1088-48e4-ad67-d4ff72584a7a",
   "metadata": {},
   "outputs": [],
   "source": [
    "# Load Excel file\n",
    "df = pd.read_excel(\"sample_data/test.xlsx\")  # Replace with your Excel filename"
   ]
  },
  {
   "cell_type": "code",
   "execution_count": null,
   "id": "5d1d9e96-d7b0-4677-9a48-a0157fcc5c5f",
   "metadata": {},
   "outputs": [],
   "source": [
    "df.head()"
   ]
  },
  {
   "cell_type": "code",
   "execution_count": null,
   "id": "c9774ead-b9be-4be1-9fa9-0b8557c14d4f",
   "metadata": {},
   "outputs": [],
   "source": [
    "import os\n",
    "from langchain_google_genai import ChatGoogleGenerativeAI\n",
    "from langchain.schema import SystemMessage, HumanMessage\n",
    "from dotenv import load_dotenv\n",
    "\n",
    "# Load environment variables from .env file (optional)\n",
    "load_dotenv()\n",
    "\n",
    "# Access your key\n",
    "api_key = os.getenv(\"gemini_api_key\")"
   ]
  },
  {
   "cell_type": "code",
   "execution_count": null,
   "id": "65030eb2-8e83-4026-b4b8-1574d6a7d600",
   "metadata": {},
   "outputs": [],
   "source": [
    "csv_text = df.to_string(index=False)"
   ]
  },
  {
   "cell_type": "code",
   "execution_count": null,
   "id": "2fae4653-4815-4fa0-97cb-a3fbd44bb3f6",
   "metadata": {},
   "outputs": [],
   "source": [
    "print(csv_text)"
   ]
  },
  {
   "cell_type": "code",
   "execution_count": null,
   "id": "d8bb2208-198b-4958-99d1-f6b16e2d384f",
   "metadata": {},
   "outputs": [],
   "source": [
    "# Initialize Gemini LLM through LangChain\n",
    "llm = ChatGoogleGenerativeAI(\n",
    "    model=\"gemini-2.5-flash\",  # Text-based Gemini model\n",
    "    temperature=0.2,      # Low temperature for factual output\n",
    "    google_api_key=api_key\n",
    ")"
   ]
  },
  {
   "cell_type": "code",
   "execution_count": null,
   "id": "700dd99d-4c1c-41b5-83f3-14c217677fa3",
   "metadata": {},
   "outputs": [],
   "source": [
    "question = \"provide me details about people whose gender is male?\""
   ]
  },
  {
   "cell_type": "code",
   "execution_count": null,
   "id": "6dae2d84-392e-4f1a-b949-30d80c188e5e",
   "metadata": {},
   "outputs": [],
   "source": [
    "prompt = f\"\"\"\n",
    "You are a helpful data analyst. Below is data from a CSV file:\n",
    "\n",
    "{csv_text}\n",
    "\n",
    "Answer this question: {question}\n",
    "\"\"\"\n",
    "\n",
    "messages = [\n",
    "    SystemMessage(content=\"You are a data analyst extracting insights from files\"),\n",
    "    HumanMessage(content=prompt)\n",
    "]"
   ]
  },
  {
   "cell_type": "code",
   "execution_count": null,
   "id": "d31b2d94-ca4f-40bb-a79a-d9dbd19571fc",
   "metadata": {},
   "outputs": [],
   "source": [
    "# Send the request to Gemini\n",
    "response = llm.invoke(messages)\n",
    "\n",
    "# Print output\n",
    "print(\"Model Output:\\n\", response.content)"
   ]
  }
 ],
 "metadata": {
  "kernelspec": {
   "display_name": "Python 3 (ipykernel)",
   "language": "python",
   "name": "python3"
  },
  "language_info": {
   "codemirror_mode": {
    "name": "ipython",
    "version": 3
   },
   "file_extension": ".py",
   "mimetype": "text/x-python",
   "name": "python",
   "nbconvert_exporter": "python",
   "pygments_lexer": "ipython3",
   "version": "3.13.5"
  }
 },
 "nbformat": 4,
 "nbformat_minor": 5
}
