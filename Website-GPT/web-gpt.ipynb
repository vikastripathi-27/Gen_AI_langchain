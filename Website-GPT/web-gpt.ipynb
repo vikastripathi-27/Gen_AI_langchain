{
 "cells": [
  {
   "cell_type": "code",
   "execution_count": 1,
   "id": "0dc05d71-57fc-4f2b-91d7-591f7ba849f6",
   "metadata": {},
   "outputs": [
    {
     "name": "stderr",
     "output_type": "stream",
     "text": [
      "USER_AGENT environment variable not set, consider setting it to identify your requests.\n"
     ]
    }
   ],
   "source": [
    "from langchain_google_genai import ChatGoogleGenerativeAI, GoogleGenerativeAIEmbeddings\n",
    "from dotenv import load_dotenv\n",
    "from langchain_community.document_loaders import WebBaseLoader\n",
    "from langchain.text_splitter import RecursiveCharacterTextSplitter\n",
    "from langchain_community.vectorstores import FAISS\n",
    "from langchain.retrievers import ContextualCompressionRetriever\n",
    "from langchain.retrievers.document_compressors import LLMChainExtractor\n",
    "import streamlit as st"
   ]
  },
  {
   "cell_type": "code",
   "execution_count": 2,
   "id": "e56ab183-65b4-4d57-b78a-f8022f4e7d77",
   "metadata": {},
   "outputs": [],
   "source": [
    "load_dotenv()\n",
    "\n",
    "llm_model = ChatGoogleGenerativeAI(\n",
    "    model='gemini-2.5-flash',\n",
    "    temperature=0\n",
    ")\n",
    "\n",
    "embedding_model = GoogleGenerativeAIEmbeddings(model='models/embedding-001')"
   ]
  },
  {
   "cell_type": "code",
   "execution_count": 3,
   "id": "503f6828",
   "metadata": {},
   "outputs": [
    {
     "name": "stdout",
     "output_type": "stream",
     "text": [
      "[Document(metadata={'source': 'https://medium.com/@RenderAnalytics/what-is-artificial-intelligence-and-how-does-it-work-for-beginners-5224aa0c472b', 'title': 'What is Artificial Intelligence and How Does it Work? For Beginners! | by Charles Render | Medium', 'description': 'Artificial Intelligence (AI) has emerged as a transformative technology that is reshaping industries and revolutionizing the way we live and work. For business owners, managers, and curious…', 'language': 'en'}, page_content='What is Artificial Intelligence and How Does it Work? For Beginners! | by Charles Render | MediumSitemapOpen in appSign upSign inMedium LogoWriteSign upSign inWhat is Artificial Intelligence and How Does it Work? For Beginners!Demystifying Artificial Intelligence: Understanding AI Basics for Non-ProgrammersCharles Render9 min read·Jul 26, 2023--2ListenSharePress enter or click to view image in full sizeArtificial Intelligence (AI) has emerged as a transformative technology that is reshaping industries and revolutionizing the way we live and work. For business owners, managers, and curious beginners, understanding the fundamentals of AI is essential for making informed decisions and harnessing its potential to drive growth and innovation. In this article, we will delve deep into the world of AI, exploring its core principles, practical applications, and future implications.Understanding Artificial IntelligenceArtificial Intelligence encompasses the development of computer systems capable of performing tasks that traditionally require human intelligence. The field includes various subfields, each with its own focus and application. Machine learning is one such subfield, where algorithms enable computers to learn from data and improve their performance over time. Natural language processing focuses on enabling machines to understand and interact with human language, while computer vision enables machines to interpret and understand visual information. Robotics combines AI with physical systems to create intelligent machines capable of interacting with the physical world.Machine Learning: The Essence of AIMachine learning, a subset of AI, lies at the heart of many AI applications. It allows computers to learn from data and improve their performance over time without explicit programming. Machine learning algorithms identify patterns and relationships within data, extract meaningful insights, and make predictions or decisions based on those patterns. This ability to learn from experience enables machines to automate tasks, recognize speech, classify images, and more.Machine learning is a fundamental subset of AI that plays a crucial role in enabling computers to learn from data and improve their performance over time. It provides machines with the ability to automatically learn patterns, make predictions, and make decisions without explicit programming.In supervised learning, the algorithm learns from labeled examples to make predictions or classifications. It is provided with a dataset where each data point is associated with a target value or label. The algorithm analyzes the features of the data and learns to map them to the corresponding target value. This allows the algorithm to make accurate predictions or classifications for new, unseen data. For example, in a spam email classification system, the algorithm is trained on a dataset of labeled emails, where each email is classified as either spam or non-spam. By analyzing the features of the emails, such as the words used or the presence of certain keywords, the algorithm learns to distinguish between spam and non-spam emails. Once trained, it can accurately classify new emails as spam or non-spam.Unsupervised learning, on the other hand, involves learning from unlabeled data, where the algorithm is not provided with any target labels. The algorithm analyzes the patterns and structures in the data to discover inherent relationships and groupings. Clustering algorithms are commonly used in unsupervised learning to group similar data points together. For example, in customer segmentation, an unsupervised learning algorithm can analyze customer data based on various attributes and group customers into segments based on their similarities.Press enter or click to view image in full sizeReinforcement learning is a different paradigm of machine learning where an agent learns to interact with an environment and takes actions to maximize a reward signal. The agent learns through trial and error, receiving feedback in the form of rewards or penalties for its actions. It explores the environment, learns which actions yield higher rewards, and adjusts its behavior accordingly. Reinforcement learning has been successfully applied in various domains, including robotics, game playing, and autonomous vehicle control.Within each of these learning paradigms, there are numerous algorithms and techniques, such as decision trees, support vector machines, neural networks, and deep learning. These algorithms differ in their approach to learning and the types of problems they are best suited for. The choice of algorithm depends on the specific problem at hand, the available data, and the desired outcome.To apply Machine learning effectively, several key steps are involved. These include data preprocessing, feature selection or extraction, model training, model evaluation, and deployment. Data preprocessing involves cleaning and transforming the data to ensure its quality and compatibility with the chosen algorithm. Feature selection or extraction focuses on identifying the most relevant features that will contribute to the learning process. Model training refers to the process of fitting the algorithm to the data, adjusting its parameters to minimize errors or maximize performance. Model evaluation assesses the performance of the trained model using appropriate metrics and techniques. Finally, the trained model can be deployed to make predictions or automate decision-making tasks.Data Analytics and Data Science: The Pillars of AIData analytics and data science play crucial roles in AI by providing the necessary tools and techniques to extract value from data. Data analytics involves the collection, organization, and analysis of vast amounts of data to uncover patterns, trends, and insights. It utilizes various statistical and computational techniques to transform raw data into actionable information. Data science complements data analytics by utilizing statistical models, algorithms, and scientific methods to extract knowledge and generate predictions.By combining data analytics, data science, and machine learning, businesses can gain valuable insights, optimize processes, improve decision-making, and drive innovation. For example, in the field of marketing, data analytics can be used to analyze customer behavior, segment customers based on their preferences, and identify the most effective marketing strategies. Machine learning algorithms can then be employed to predict customer responses, personalize marketing campaigns, and maximize customer engagement.Real-World Case Studies: AI in ActionAI has found practical applications across diverse industries, transforming the way businesses operate. Let’s explore some real-world examples to gain a deeper understanding of AI’s impact:In the healthcare sector, AI-powered diagnostic systems are revolutionizing patient care. By analyzing medical images such as X-rays and MRIs, AI algorithms can detect abnormalities, assist in accurate diagnoses, and predict diseases at an early stage. This leads to improved patient outcomes, reduced costs, and enhanced healthcare delivery. Additionally, AI is being utilized to identify patterns in patient data, enabling early detection of potential health risks and the development of personalized treatment plans.Press enter or click to view image in full sizeThe finance industry is leveraging AI to automate tasks and enhance decision-making processes. AI algorithms can analyze vast amounts of financial data, detect patterns, and identify potential fraud or anomalies. This enables financial institutions to manage risks more effectively, optimize investment strategies, and provide personalized financial advice. Furthermore, AI-based chatbots and virtual assistants are being employed to provide customer support, handle routine inquiries, and even assist in financial planning.Customer service is being revolutionized by AI-powered chatbots and virtual assistants. These intelligent systems utilize natural language processing and machine learning to understand and respond to customer queries in real-time, providing instant support and personalized recommendations. By automating routine customer interactions, businesses can reduce response times, improve customer satisfaction, and free up human agents to handle more complex inquiries.The Benefits of AIThe adoption of AI offers numerous benefits for businesses and individuals alike:Increased Efficiency: AI automates repetitive tasks, streamlines processes, and enhances productivity. By leveraging AI, businesses can free up valuable human resources to focus on more strategic and value-added activities. For example, AI-powered chatbots can handle routine customer inquiries, reducing the workload on customer service teams and allowing them to address more complex issues.Improved Decision-making: AI enables data-driven decision-making by analyzing vast amounts of data, uncovering patterns, and generating valuable insights. This empowers businesses to make more accurate predictions and informed decisions, leading to improved outcomes. For instance, AI can analyze customer data to identify trends and preferences, enabling businesses to tailor their marketing strategies and optimize product offerings.Enhanced Personalization: AI algorithms can analyze customer data to understand preferences, behaviors, and purchase history. This enables businesses to deliver personalized experiences, tailored recommendations, and targeted marketing campaigns, resulting in improved customer satisfaction and loyalty. For example, e-commerce platforms can utilize AI to provide personalized product recommendations based on the customer’s browsing and purchase history.The Future of AILooking ahead, the future of AI holds immense promise:Increased Adoption: AI technologies are becoming more accessible, driving increased adoption across industries. Businesses that embrace AI will gain a competitive edge, harnessing its transformative capabilities to drive growth and innovation. As AI continues to advance and become more user-friendly, it will find applications in even more areas, from agriculture to transportation.Ethical Considerations: As AI becomes more pervasive, ethical considerations such as privacy, bias, and accountability become crucial. Striking a balance between innovation and responsible AI usage will be vital to build trust and ensure fairness in AI systems. The development of robust ethical frameworks and regulations will be necessary to guide the responsible use of AI.Advancements in Natural Language Processing: Natural language processing, a subfield of AI, focuses on enabling computers to understand and respond to human language. Ongoing advancements in this area will lead to more sophisticated conversational AI interfaces and voice assistants, enabling more natural and seamless interactions between humans and machines. As language models improve, AI systems will better understand context, nuances, and even emotions, further enhancing their ability to engage in meaningful conversations.Embracing AI in Your BusinessTo harness the potential of AI in your business, consider the following steps:Identify Opportunities: Assess your business processes to identify areas where AI can add value. Look for tasks that are repetitive, time-consuming, or require complex data analysis. These are prime candidates for automation or augmentation with AI.Start Small: Begin with a pilot project to test the feasibility and potential impact of AI in your specific context. This approach allows you to learn, iterate, and gradually scale up your AI initiatives. Start with a specific use case that aligns with your business goals and can deliver tangible results.Collaboration and Expertise: If you lack in-house AI expertise, consider collaborating with data scientists, AI consultants, or technology vendors. Their expertise can guide you through the implementation process, ensuring optimal results. Working with AI experts will help you navigate the complexities of AI, select the right tools and algorithms, and integrate them seamlessly into your existing systems.Data Quality and Security: AI relies heavily on data, so ensuring data quality, integrity, and security is crucial. Establish robust data governance practices, invest in data quality management, and prioritize data privacy and security measures. This will ensure that the AI models are trained on accurate and reliable data and that sensitive information is protected.Continuous Learning and Adaptation: AI is a rapidly evolving field, and it’s essential to stay updated with the latest advancements. Encourage a culture of continuous learning within your organization, fostering collaboration between business and technical teams. Stay informed about new AI technologies, trends, and best practices to maximize the value AI can bring to your business.Wrap-UpArtificial Intelligence is a transformative technology with the potential to drive growth, enhance decision-making, and deliver personalized experiences across industries. By understanding the principles of AI, its practical applications, and future implications, businesses can leverage its power to gain a competitive edge in the digital age. Embracing AI in a responsible and pragmatic manner will be vital for organizations to thrive and innovate in a rapidly evolving world.As AI continues to advance, it holds the promise of solving complex problems, revolutionizing industries, and augmenting human capabilities. By embracing AI and exploring its possibilities, businesses can unlock new opportunities, improve efficiency, enhance customer experiences, and drive innovation. As with any transformative technology, careful consideration must be given to ethical and responsible AI development and usage to ensure fairness, transparency, and accountability.By staying informed, collaborating with experts, and adopting a strategic approach to AI implementation, businesses can navigate the evolving AI landscape and position themselves for success in the future. To explore partnering with experts to implement artificial intelligence for your business, book a free consultation with Render Analytics. To learn about common data science use cases for businesses, give this article a read!Artificial IntelligenceAIMachine LearningMachine Learning AiData Science----2Written by Charles Render39 followers·3 followingOwner of Render Analytics, which helps small businesses leverage data analytics to grow their online presenceResponses (2)See all responsesHelpStatusAboutCareersPressBlogPrivacyRulesTermsText to speech\\n\\n\\n\\n\\n\\n\\n\\n\\n\\n\\n\\n\\n\\n\\n\\n\\n\\n\\n\\n\\n\\n\\n\\n\\n\\n\\n\\n\\n\\n\\n\\n\\n\\n\\n\\n\\n\\n')]\n"
     ]
    }
   ],
   "source": [
    "web_load = WebBaseLoader(web_path='https://medium.com/@RenderAnalytics/what-is-artificial-intelligence-and-how-does-it-work-for-beginners-5224aa0c472b')\n",
    "\n",
    "web_result = web_load.load()\n",
    "print(web_result)"
   ]
  },
  {
   "cell_type": "code",
   "execution_count": 4,
   "id": "5469a60e",
   "metadata": {},
   "outputs": [],
   "source": [
    "vector_store = FAISS.from_documents(documents=web_result, embedding=embedding_model)"
   ]
  },
  {
   "cell_type": "code",
   "execution_count": 5,
   "id": "aea02835",
   "metadata": {},
   "outputs": [],
   "source": [
    "retriever = vector_store.as_retriever (\n",
    "    search_type='mmr',\n",
    "    search_kwargs={'k':5, 'lambda_mult':0.4}\n",
    ")"
   ]
  },
  {
   "cell_type": "code",
   "execution_count": 7,
   "id": "67a6fb12",
   "metadata": {},
   "outputs": [],
   "source": [
    "compressor = LLMChainExtractor.from_llm(llm_model)\n",
    "\n",
    "compressed_retriver = ContextualCompressionRetriever(\n",
    "    base_retriever=retriever,\n",
    "    base_compressor=compressor\n",
    ")"
   ]
  },
  {
   "cell_type": "code",
   "execution_count": 8,
   "id": "6db0add3",
   "metadata": {},
   "outputs": [],
   "source": [
    "user_query = 'what is this article about?'\n",
    "result = compressed_retriver.invoke(user_query)"
   ]
  },
  {
   "cell_type": "code",
   "execution_count": 10,
   "id": "470b7a87-d2e7-4d6f-a9f2-8e68270598e3",
   "metadata": {},
   "outputs": [
    {
     "name": "stdout",
     "output_type": "stream",
     "text": [
      "What is Artificial Intelligence and How Does it Work? For Beginners!\n",
      "Demystifying Artificial Intelligence: Understanding AI Basics for Non-Programmers\n",
      "In this article, we will delve deep into the world of AI, exploring its core principles, practical applications, and future implications.\n"
     ]
    }
   ],
   "source": [
    "print(result[0].page_content)"
   ]
  },
  {
   "cell_type": "code",
   "execution_count": null,
   "id": "ad1a5b83-d1e3-4787-9e67-ad47f7cefcb7",
   "metadata": {},
   "outputs": [],
   "source": []
  }
 ],
 "metadata": {
  "kernelspec": {
   "display_name": "Python 3 (ipykernel)",
   "language": "python",
   "name": "python3"
  },
  "language_info": {
   "codemirror_mode": {
    "name": "ipython",
    "version": 3
   },
   "file_extension": ".py",
   "mimetype": "text/x-python",
   "name": "python",
   "nbconvert_exporter": "python",
   "pygments_lexer": "ipython3",
   "version": "3.13.5"
  }
 },
 "nbformat": 4,
 "nbformat_minor": 5
}
