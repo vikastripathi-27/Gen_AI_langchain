{
 "cells": [
  {
   "cell_type": "code",
   "execution_count": 4,
   "id": "0dc05d71-57fc-4f2b-91d7-591f7ba849f6",
   "metadata": {},
   "outputs": [],
   "source": [
    "from langchain_google_genai import ChatGoogleGenerativeAI, GoogleGenerativeAIEmbeddings\n",
    "from dotenv import load_dotenv\n",
    "from langchain_community.document_loaders import WebBaseLoader\n",
    "from langchain.text_splitter import RecursiveCharacterTextSplitter\n",
    "from langchain_community.vectorstores import FAISS\n",
    "from langchain.retrievers import ContextualCompressionRetriever\n",
    "from langchain.retrievers.document_compressors import LLMChainExtractor\n",
    "import streamlit as st"
   ]
  },
  {
   "cell_type": "code",
   "execution_count": 5,
   "id": "e56ab183-65b4-4d57-b78a-f8022f4e7d77",
   "metadata": {},
   "outputs": [],
   "source": [
    "load_dotenv()\n",
    "\n",
    "llm_model = ChatGoogleGenerativeAI(\n",
    "    model='gemini-2.5-flash',\n",
    "    temperature=0\n",
    ")\n",
    "\n",
    "embedding_model = GoogleGenerativeAIEmbeddings(model='models/embedding-001')"
   ]
  },
  {
   "cell_type": "code",
   "execution_count": 6,
   "id": "503f6828",
   "metadata": {},
   "outputs": [
    {
     "name": "stdout",
     "output_type": "stream",
     "text": [
      "[Document(metadata={'source': 'https://medium.com/@social_65128/the-comprehensive-guide-to-understanding-generative-ai-c06bbf259786', 'title': 'The Comprehensive Guide to Understanding Generative AI | by purpleSlate | Medium', 'description': 'The world goes through multiple cycles of innovation. The one cosmic law that governs all. Throughout anthropological history there have been these cycles of innovation, which have changed the course…', 'language': 'en'}, page_content='The Comprehensive Guide to Understanding Generative AI | by purpleSlate | MediumSitemapOpen in appSign upSign inMedium LogoWriteSign upSign inThe Comprehensive Guide to Understanding Generative AIpurpleSlate13 min read·Nov 2, 2023--17ListenSharePress enter or click to view image in full sizeThe world goes through multiple cycles of innovation. The one cosmic law that governs all. Throughout anthropological history there have been these cycles of innovation, which have changed the course of the world, taking it in a completely new direction.For example, the discovery of agriculture. This reconditioned the entire human nature from that of hunter-gatherers to creators, growers, and settlers. Many great civilizations rose on the banks of great rivers of the world. Consider any other instance — silicone reimagined the fields of medicine and astrophysics, and the steam engine ushered in the golden age of mass-produced goods, and commerce.The entire world is currently going through such a cycle of innovation with AI-powered digitalization right there in the driver’s seat. Digitalization has taken over each point of business and personal fronts ranging from Internet of Things and Augmented Reality to Generative AI — the protagonist of this story.This guide helps readers understand in-depth about Generative AI, its untapped potential, and how to harness its capabilities to win big in the business world.What is Generative AI?Generative AI is an advanced technology that is capable of generating content in the form of text, voice, visuals, or even synthetic data. It leverages deep learning models and large language models to set on the task of creating novel content.Its (Generative AI’s) performance will compete with the top 25 percent of people, completing any and all tasks before 2040 — McKinseyGenerative AI has become THE sensation of the world, AI’s very own Michael Jordan scoring slam dunks back-to-back. It definitely goes beyond just having contextual conversations to tailored recommendations, intuitive solutions, and more. Its applications are widely distributed amongst the breadth and length of industries ranging from High Tech to Agriculture and consumer packaged goods.It should be a no-brainer when leading research firms across the world predict that Generative AI has a lot of untapped potential to augment human capabilities.Gartner places Generative AI on the Peak of Inflated Expectations on the 2023 Hype Cycle for Emerging TechnologiesDeloitte estimates the market for Generative AI at $200B by 2032. This represents ~20% of total AI spend, up from ~5% todayThe History of Generative AIThe term Generative AI may be a recent trend but the history behind it goes back at least 70 years, when humans really started to wonder if machines have the capability to think, and process like humans. Let us traverse for a moment to the realm of AI through its formative years.From humble beginnings in the 1950s with the inception of text analytics, to the emergence of powerful language models like GPT (Generative Pre-trained Transformer), each stage has marked a significant leap in our quest to create machines that can understand and generate human language.Press enter or click to view image in full size1950s: Text Analytics — The Dawn of AIIn the 1950s to early 1960s, the field of artificial intelligence (AI) was still in its infancy. Researchers were exploring the possibilities of creating machines that could simulate human intelligence. One of the earliest endeavors in this direction was text analytics. This era witnessed the development of rudimentary computer programs designed to process and analyze text data.Early text analytics systems were primarily focused on simple tasks like information retrieval and keyword extraction. The idea was to enable computers to understand and manipulate text in a way that resembled human comprehension. While these efforts were groundbreaking for their time, they were limited in their capabilities and lacked the sophistication we associate with AI today.1960s: Rule-Based Systems and Knowledge BasesDuring the latter half of 1960s and throughout 1970s, AI research shifted toward rule-based systems and knowledge bases. Researchers sought to encode human knowledge and expertise into computer programs using explicit rules and logical reasoning. This approach led to the development of expert systems, which were capable of solving specific problems by following predefined rules.Expert systems marked a significant step forward in AI, as they demonstrated that computers could perform tasks that required human expertise. However, they were constrained by the need for extensive manual rule-writing and limited adaptability to new domains.1980s: Natural Language Processing EmergesThe 1980s and 1990s witnessed the emergence of natural language processing (NLP), a critical field within AI that aimed to enable machines to understand and generate human language. Researchers began developing more advanced techniques for parsing and analyzing text, paving the way for applications like machine translation, speech recognition, and sentiment analysis.NLP systems were still rule-based to a large extent, relying on grammatical and syntactical rules. These systems were capable of handling more complex language tasks than earlier text analytics, but they were far from achieving human-level language understanding.2000s: Machine Learning and Big Data RevolutionThe turn of the millennium marked a significant shift in AI research with the rise of machine learning and the availability of vast amounts of digital data. Machine learning algorithms, particularly neural networks, proved to be highly effective in solving a wide range of AI tasks, including those related to text and language.This era gave birth to the concept of “Big Data” and the development of large-scale data analytics. With the advent of technologies like deep learning and the availability of massive datasets, AI models became increasingly capable of understanding and generating human language.2020s: GPT-3 and the Breakthrough in Generative AIIn 2020s the world witnessed GPT-3 (Generative Pre-trained Transformer 3), a revolutionary AI model that marked a significant milestone in the field of AI and NLP. GPT-3 was pre-trained on an enormous corpus of text data and could generate highly coherent and contextually relevant text.The evolution of GPT is continuing with the introduction of GPT 3.5 on which ChatGPT runs and GPT 4 which is the latest version of GPT.Popping the hood of Gen AI — What is an LLM?No discussion of generative AI is complete without understanding Large Language Models, the world simply calls LLMs. Large Language models are trained over large unlabeled datasets with huge volume of parameters. GPT-3 is trained over 175 billion parameters!The unlabeled datasets can be open source like Wikipedia pages, or private like internal training documents based on the need. The entire functionality of LLMs centers around probabilistic distributions of words or sequences of words put together to form a sentence or phrase.Too technical? How about this?LLMs predict the next possible word in a sentence.The prediction of the next possible word is based on a specific “validity” and that validity is not necessarily identified by grammatical rules. Rather it is determined by a factor of how humans craft language sentences. Learning or to a certain level mimicking how humans write language is a result of language training over vast datasets.Let us demonstrate this by an example.“Modern AI has become the latest weapon in the arsenal of businesses”If AI generated the above sentence, it would have associated a probability score for each of the words and its alternatives. The score is calculated based on the probability of humans having created a sentence with these specific set of words in this exact sequence.“Modern AI has become the latest…”From the list of probability scores LLMs can understand the word weapon has been used by humans frequently compared to the other three words. In this hypothetical example, we are only showing four possible alternatives. While in reality, the words list will be longer with more variables in play.Press enter or click to view image in full sizeOne must understand that AI is in a continuous learning phase. It will go in-depth and score for the occurrences of alphabets alike. Like after ‘w’, ‘e’ is the most repeated letter. All these are achieved through advanced Machine Learning algorithms.Some of the very commonly known LLMs are: –Open AI’s GPT 3, 3.5, and 4Google’s LaMDA and PaLMHugging Face’s BLOOMMeta’s LLaMANVidia’s NeMO LLMOut of this list, Meta’s LLaMA is an open source LLM which developers across the world leverage to create customizable private models.LLM (Language Model) and Generative AI are related concepts, but they have distinct differences in terms of their focus, capabilities, and applications.Now that we’ve discussed GANs, there must be a bit of curiosity to know more about other types of Generative AI models. Let us go a bit deeper to understand about the key Generative AI models in use today.Understanding Generative AI Models and Its TypesGenerative AI models are a subset of artificial intelligence (AI) models designed to generate new data that is similar to, or follows patterns found in, existing data. Generative AI models differ from other AI models that focus on classification, prediction, or reinforcement learning.Here are some key characteristics and types of generative AI models.Data Generation: Generative AI models have the ability to create new content that mimics patterns or styles observed in training data. This content can be in various forms, including text, images, music, and more.Unsupervised Learning: Many generative models employ unsupervised learning techniques, where the model learns patterns and structures in data without explicit labels or targets. This enables them to generate data without requiring specific examples of what should be generated.Variability: Generative models are often characterized by their ability to produce diverse outputs. For example, they can generate different styles of art, rephrase the same text passage in different ways, or multiple versions of an image.Now, let’s explore some common types of generative AI models.Press enter or click to view image in full sizeGenerative Adversarial Networks (GANs)GANs consist of two neural networks, a generator and a discriminator, that are in a competitive relationship. The generator creates data, while the discriminator evaluates the authenticity of that data. This adversarial process leads to the generator improving its ability to create realistic data. GANs have been used extensively for image generation, style transfer, and content creation.Variational Autoencoders (VAEs)VAEs are generative models that work on the principles of probabilistic modeling. They aim to learn the underlying probabilistic distribution of data. VAEs are often used for image generation, data compression, and image reconstruction.Recurrent Neural Networks (RNNs)RNNs are a type of neural network architecture specifically designed for sequential data, such as text and time-series data. They are used for text generation, machine translation, and speech recognition. However, traditional RNNs have limitations in capturing long-term dependencies.Long Short-Term Memory (LSTM) NetworksLSTMs are a specialized type of RNN that can capture long-range dependencies in sequential data. They have proven effective in natural language processing tasks, including language modeling, text generation, and sentiment analysis.Generative Pre-trained Transformers (GPT)GPT models are a recent breakthrough in generative AI. These models leverage transformer architecture and large-scale pre-training on text data to generate coherent and contextually relevant text. They excel in a wide range of natural language understanding and generation tasks, including chatbots, content generation, translation, and more.What are the Top Applications of Generative AI?Generative AI’s influence knows no bounds, revolutionizing industries, functions, and personas across the spectrum. From augmenting content creation to enhancing personalized education, healthcare, customer service, and marketing, the applications of Generative AI are boundless.We are breaking it into two different clusters where you can explore the applications of Generative AI by industry and functions.Applications Across IndustriesMarketing, Advertising, and Entertainment IndustryContent Creation: Generative AI powers content creation in the form of art, music, literature, and more. Artists and musicians employ AI to generate new pieces and explore innovative creative directions.Video Game Development: AI-driven generative systems create game environments, characters, and even dialogues, reducing the time and resources required for game development.Scriptwriting: Screenwriters and content creators leverage Generative AI to assist in scriptwriting by generating dialogues, plotlines, and character interactions.Education SectorPersonalized Learning: Generative AI adapts educational content to individual student needs by generating tailored assignments, quizzes, and study materials, promoting personalized learning experiences.Knowledge base: Generative AI can be used to create an exhaustive knowledge base which can be used by students to gain momentary information in a conversational style.Virtual Labs: Generative AI powers virtual laboratories, simulating experiments and scenarios for students studying science, engineering, and other practical disciplines.Healthcare IndustryMedical Image Generation: Generative AI is utilized to generate synthetic medical images for training machine learning models, enhancing diagnostic accuracy, and simulating rare medical conditions for educational purposes.Drug Discovery: Pharmaceutical companies employ Generative AI to discover new drug compounds by generating molecular structures, accelerating the drug development process.Personalized Medicine: AI-driven generative models analyze patient data to generate personalized treatment plans, accounting for genetic factors, medical history, and current health conditions.Manufacturing IndustryProduct Design: Generative design utilizes AI algorithms to generate optimized product designs, considering factors such as materials, weight, and structural integrity, streamlining the product development process.Quality Control: Generative AI models generate synthetic data for quality control testing, ensuring that manufacturing processes adhere to quality standards.Supply Chain Optimization: AI-generated demand forecasts and supply chain scenarios help manufacturers make informed decisions about production and distribution.Software & Tech IndustryCode Generation: Generative AI can assist developers by generating code snippets and templates for common programming tasks, speeding up development processes.Bug Detection: AI-powered tools can generate synthetic test cases and scenarios to help identify and fix software bugs more efficiently.IT Security: Generative AI models can simulate cyberattack scenarios to help IT departments identify vulnerabilities and enhance cybersecurity measures.Application by FunctionCustomer ServiceChatbots and Virtual Assistants: Generative AI powers intelligent chatbots and virtual assistants that handle customer inquiries, provide information, and troubleshoot issues 24/7.Sentiment Analysis: AI-generated sentiment analysis reports help customer service teams understand customer emotions and feedback, enabling more empathetic and effective responses.Automated Ticket Routing: Generative AI algorithms assist in routing customer inquiries to the right department or agent, optimizing response times and issue resolution.MarketingContent Generation: Generative AI assists marketers in generating high-quality and engaging content, including blog posts, social media updates, and ad copy.Personalization: AI algorithms use customer data to generate personalized marketing campaigns, tailoring content and recommendations for individual customers.A/B Testing: Generative AI can propose A/B testing ideas, helping marketers refine their strategies by predicting which variations will yield the best results.Human ResourcesAutomated Resume Screening: Generative AI accelerates the screening process by categorizing resumes based on different parameters like qualification, education, skill, etc.Personalized Learning Pathways: AI tailors employee development plans by generating customized training recommendations, automated evaluations, etc.Virtual HR Assistants: Chatbots powered by Generative AI can share policy information with employees, onboard new hires seamlessly, answer organizational questions, etc.SalesLead Generation and Scoring: Generative AI analyzes customer profiles to identify potential leads and generate targeted lists for sales teams by grouping them into priority buckets.Sales Content: AI assists in creating sales collateral such as pitch decks, sales emails, and product presentations to enhance the sales process.Price Optimization: Generative AI models can recommend pricing strategies and generate quotes based on market dynamics and customer data.Operations & Purchase:Maintenance Planning: Generative AI assists in predicting equipment maintenance needs, optimizing maintenance schedules, and reducing downtime.Vendor Selection: Generative AI analyzes vendor data and market trends to suggest suitable vendors, helping procurement departments make informed decisions.Supplier Negotiation: Generative AI provides negotiation strategies, assisting procurement professionals in securing favorable terms and pricing.Understanding the Limitations of Generative AI“(Generative) AI is like a glorified tape-recorder. It takes snippets of what’s on the web created by a human, splices them together and passes it off as if it created these things. And people are saying, ‘Oh my God, it’s a human, it’s humanlike.’” — Michio Kaku, Renowned Theoretical Physicist and FuturistOne of the key concerns of everyone out there is “Will ChatGPT take over my job?”. It’s very safe to assume that those fears are unwarranted, as Generative AI is not sentient. Yet.Sentient devices are still a future dream. Amid the buzz, it’s crucial to distinguish between the hype and the reality of this groundbreaking technology. Let us understand the limitations of Generative AI from a real-world perspective.Press enter or click to view image in full sizeUnderstanding ContextGenerative AI struggles to grasp context, leading to occasional nonsensical or irrelevant responses in natural language processing tasks.True CreativityWhile it can mimic creative styles, Generative AI lacks true creativity, imagination, and emotional depth. It relies on patterns and data rather than genuine inspiration.HallucinationsGenerative AI has the tendency to suffer from a condition known as hallucinations. AI hallucinations generate false content based on its own understanding of a scenario or context.Bias and FairnessGenerative AI models can inadvertently perpetuate biases present in their training data, leading to biased outputs that reflect societal prejudices.The Future of Generative AIThe story of Generative AI is far from over as it continuously learns and matures. The future of Generative AI holds remarkable promise, reshaping the way we interact with technology and solve complex problems. Striking a balance between harnessing its potential while addressing its challenges is crucial. We believe Generative AI will impact the following three areas in the future.Frequent Content Creation at SpeedWhile Generative AI has limitations in achieving true creativity, it can create multiple forms of content across wide topics at speed and scale. Simultaneously. This can be leveraged across industries, functions, and personas to drive organizational goals.Natural and Intuitive ConversationsVirtual assistants and chatbots will become even more capable of handling complex queries, providing personalized recommendations, and engaging in emotionally intelligent conversations. They will play a significant role in customer service, healthcare, and education.Personalization at ScaleGenerative AI will enable hyper-personalization across industries, from marketing to healthcare. AI systems will analyze vast amounts of data to deliver tailored experiences and recommendations. Personalized campaigns, content, and product recommendations will become the norm enhancing user satisfaction and engagement.The future will definitely be Generational. The question is are you ready to embrace the future?This blog was originally published in: https://www.purpleslate.com/generative-ai-guide/Generative AiAIGenerative Ai SolutionArtificial IntelligenceGenai----17Written by purpleSlate488 followers·61 followingPurpleslate is a Conversational AI startup driven by passion to reimagine next generation interfaces.Responses (17)See all responsesHelpStatusAboutCareersPressBlogPrivacyRulesTermsText to speech\\n\\n\\n\\n\\n\\n\\n\\n\\n\\n\\n\\n\\n\\n\\n\\n\\n\\n\\n\\n\\n\\n\\n\\n\\n\\n\\n\\n\\n\\n\\n\\n\\n\\n\\n\\n\\n\\n')]\n"
     ]
    }
   ],
   "source": [
    "url = 'https://medium.com/@social_65128/the-comprehensive-guide-to-understanding-generative-ai-c06bbf259786'\n",
    "web_load = WebBaseLoader(web_path=url)\n",
    "\n",
    "web_result = web_load.load()\n",
    "print(web_result)"
   ]
  },
  {
   "cell_type": "code",
   "execution_count": 8,
   "id": "1429da94-603f-4d71-9639-e76f19c96136",
   "metadata": {},
   "outputs": [
    {
     "name": "stdout",
     "output_type": "stream",
     "text": [
      "text =  0\n",
      "\n",
      " The Comprehensive Guide to Understanding Generative AI | by purpleSlate | MediumSitemapOpen in appSign upSign inMedium LogoWriteSign upSign inThe Comprehensive Guide to Understanding Generative AIpurpleSlate13 min read·Nov 2, 2023--17ListenSharePress enter or click to view image in full sizeThe world goes through multiple cycles of innovation. The one cosmic law that governs all. Throughout anthropological history there have been these cycles of innovation, which have changed the course of the\n",
      "text =  1\n",
      "\n",
      " world, taking it in a completely new direction.For example, the discovery of agriculture. This reconditioned the entire human nature from that of hunter-gatherers to creators, growers, and settlers. Many great civilizations rose on the banks of great rivers of the world. Consider any other instance — silicone reimagined the fields of medicine and astrophysics, and the steam engine ushered in the golden age of mass-produced goods, and commerce.The entire world is currently going through such a\n",
      "text =  2\n",
      "\n",
      " cycle of innovation with AI-powered digitalization right there in the driver’s seat. Digitalization has taken over each point of business and personal fronts ranging from Internet of Things and Augmented Reality to Generative AI — the protagonist of this story.This guide helps readers understand in-depth about Generative AI, its untapped potential, and how to harness its capabilities to win big in the business world.What is Generative AI?Generative AI is an advanced technology that is capable\n",
      "text =  3\n",
      "\n",
      " of generating content in the form of text, voice, visuals, or even synthetic data. It leverages deep learning models and large language models to set on the task of creating novel content.Its (Generative AI’s) performance will compete with the top 25 percent of people, completing any and all tasks before 2040 — McKinseyGenerative AI has become THE sensation of the world, AI’s very own Michael Jordan scoring slam dunks back-to-back. It definitely goes beyond just having contextual conversations\n",
      "text =  4\n",
      "\n",
      " to tailored recommendations, intuitive solutions, and more. Its applications are widely distributed amongst the breadth and length of industries ranging from High Tech to Agriculture and consumer packaged goods.It should be a no-brainer when leading research firms across the world predict that Generative AI has a lot of untapped potential to augment human capabilities.Gartner places Generative AI on the Peak of Inflated Expectations on the 2023 Hype Cycle for Emerging TechnologiesDeloitte\n",
      "text =  5\n",
      "\n",
      " estimates the market for Generative AI at $200B by 2032. This represents ~20% of total AI spend, up from ~5% todayThe History of Generative AIThe term Generative AI may be a recent trend but the history behind it goes back at least 70 years, when humans really started to wonder if machines have the capability to think, and process like humans. Let us traverse for a moment to the realm of AI through its formative years.From humble beginnings in the 1950s with the inception of text analytics, to\n",
      "text =  6\n",
      "\n",
      " the emergence of powerful language models like GPT (Generative Pre-trained Transformer), each stage has marked a significant leap in our quest to create machines that can understand and generate human language.Press enter or click to view image in full size1950s: Text Analytics — The Dawn of AIIn the 1950s to early 1960s, the field of artificial intelligence (AI) was still in its infancy. Researchers were exploring the possibilities of creating machines that could simulate human intelligence.\n",
      "text =  7\n",
      "\n",
      " One of the earliest endeavors in this direction was text analytics. This era witnessed the development of rudimentary computer programs designed to process and analyze text data.Early text analytics systems were primarily focused on simple tasks like information retrieval and keyword extraction. The idea was to enable computers to understand and manipulate text in a way that resembled human comprehension. While these efforts were groundbreaking for their time, they were limited in their\n",
      "text =  8\n",
      "\n",
      " capabilities and lacked the sophistication we associate with AI today.1960s: Rule-Based Systems and Knowledge BasesDuring the latter half of 1960s and throughout 1970s, AI research shifted toward rule-based systems and knowledge bases. Researchers sought to encode human knowledge and expertise into computer programs using explicit rules and logical reasoning. This approach led to the development of expert systems, which were capable of solving specific problems by following predefined\n",
      "text =  9\n",
      "\n",
      " rules.Expert systems marked a significant step forward in AI, as they demonstrated that computers could perform tasks that required human expertise. However, they were constrained by the need for extensive manual rule-writing and limited adaptability to new domains.1980s: Natural Language Processing EmergesThe 1980s and 1990s witnessed the emergence of natural language processing (NLP), a critical field within AI that aimed to enable machines to understand and generate human language.\n",
      "text =  10\n",
      "\n",
      " Researchers began developing more advanced techniques for parsing and analyzing text, paving the way for applications like machine translation, speech recognition, and sentiment analysis.NLP systems were still rule-based to a large extent, relying on grammatical and syntactical rules. These systems were capable of handling more complex language tasks than earlier text analytics, but they were far from achieving human-level language understanding.2000s: Machine Learning and Big Data\n",
      "text =  11\n",
      "\n",
      " RevolutionThe turn of the millennium marked a significant shift in AI research with the rise of machine learning and the availability of vast amounts of digital data. Machine learning algorithms, particularly neural networks, proved to be highly effective in solving a wide range of AI tasks, including those related to text and language.This era gave birth to the concept of “Big Data” and the development of large-scale data analytics. With the advent of technologies like deep learning and the\n",
      "text =  12\n",
      "\n",
      " availability of massive datasets, AI models became increasingly capable of understanding and generating human language.2020s: GPT-3 and the Breakthrough in Generative AIIn 2020s the world witnessed GPT-3 (Generative Pre-trained Transformer 3), a revolutionary AI model that marked a significant milestone in the field of AI and NLP. GPT-3 was pre-trained on an enormous corpus of text data and could generate highly coherent and contextually relevant text.The evolution of GPT is continuing with the\n",
      "text =  13\n",
      "\n",
      " introduction of GPT 3.5 on which ChatGPT runs and GPT 4 which is the latest version of GPT.Popping the hood of Gen AI — What is an LLM?No discussion of generative AI is complete without understanding Large Language Models, the world simply calls LLMs. Large Language models are trained over large unlabeled datasets with huge volume of parameters. GPT-3 is trained over 175 billion parameters!The unlabeled datasets can be open source like Wikipedia pages, or private like internal training\n",
      "text =  14\n",
      "\n",
      " documents based on the need. The entire functionality of LLMs centers around probabilistic distributions of words or sequences of words put together to form a sentence or phrase.Too technical? How about this?LLMs predict the next possible word in a sentence.The prediction of the next possible word is based on a specific “validity” and that validity is not necessarily identified by grammatical rules. Rather it is determined by a factor of how humans craft language sentences. Learning or to a\n",
      "text =  15\n",
      "\n",
      " certain level mimicking how humans write language is a result of language training over vast datasets.Let us demonstrate this by an example.“Modern AI has become the latest weapon in the arsenal of businesses”If AI generated the above sentence, it would have associated a probability score for each of the words and its alternatives. The score is calculated based on the probability of humans having created a sentence with these specific set of words in this exact sequence.“Modern AI has become\n",
      "text =  16\n",
      "\n",
      " the latest…”From the list of probability scores LLMs can understand the word weapon has been used by humans frequently compared to the other three words. In this hypothetical example, we are only showing four possible alternatives. While in reality, the words list will be longer with more variables in play.Press enter or click to view image in full sizeOne must understand that AI is in a continuous learning phase. It will go in-depth and score for the occurrences of alphabets alike. Like after\n",
      "text =  17\n",
      "\n",
      " ‘w’, ‘e’ is the most repeated letter. All these are achieved through advanced Machine Learning algorithms.Some of the very commonly known LLMs are: –Open AI’s GPT 3, 3.5, and 4Google’s LaMDA and PaLMHugging Face’s BLOOMMeta’s LLaMANVidia’s NeMO LLMOut of this list, Meta’s LLaMA is an open source LLM which developers across the world leverage to create customizable private models.LLM (Language Model) and Generative AI are related concepts, but they have distinct differences in terms of their\n",
      "text =  18\n",
      "\n",
      " focus, capabilities, and applications.Now that we’ve discussed GANs, there must be a bit of curiosity to know more about other types of Generative AI models. Let us go a bit deeper to understand about the key Generative AI models in use today.Understanding Generative AI Models and Its TypesGenerative AI models are a subset of artificial intelligence (AI) models designed to generate new data that is similar to, or follows patterns found in, existing data. Generative AI models differ from other\n",
      "text =  19\n",
      "\n",
      " AI models that focus on classification, prediction, or reinforcement learning.Here are some key characteristics and types of generative AI models.Data Generation: Generative AI models have the ability to create new content that mimics patterns or styles observed in training data. This content can be in various forms, including text, images, music, and more.Unsupervised Learning: Many generative models employ unsupervised learning techniques, where the model learns patterns and structures in\n",
      "text =  20\n",
      "\n",
      " data without explicit labels or targets. This enables them to generate data without requiring specific examples of what should be generated.Variability: Generative models are often characterized by their ability to produce diverse outputs. For example, they can generate different styles of art, rephrase the same text passage in different ways, or multiple versions of an image.Now, let’s explore some common types of generative AI models.Press enter or click to view image in full sizeGenerative\n",
      "text =  21\n",
      "\n",
      " Adversarial Networks (GANs)GANs consist of two neural networks, a generator and a discriminator, that are in a competitive relationship. The generator creates data, while the discriminator evaluates the authenticity of that data. This adversarial process leads to the generator improving its ability to create realistic data. GANs have been used extensively for image generation, style transfer, and content creation.Variational Autoencoders (VAEs)VAEs are generative models that work on the\n",
      "text =  22\n",
      "\n",
      " principles of probabilistic modeling. They aim to learn the underlying probabilistic distribution of data. VAEs are often used for image generation, data compression, and image reconstruction.Recurrent Neural Networks (RNNs)RNNs are a type of neural network architecture specifically designed for sequential data, such as text and time-series data. They are used for text generation, machine translation, and speech recognition. However, traditional RNNs have limitations in capturing long-term\n",
      "text =  23\n",
      "\n",
      " dependencies.Long Short-Term Memory (LSTM) NetworksLSTMs are a specialized type of RNN that can capture long-range dependencies in sequential data. They have proven effective in natural language processing tasks, including language modeling, text generation, and sentiment analysis.Generative Pre-trained Transformers (GPT)GPT models are a recent breakthrough in generative AI. These models leverage transformer architecture and large-scale pre-training on text data to generate coherent and\n",
      "text =  24\n",
      "\n",
      " contextually relevant text. They excel in a wide range of natural language understanding and generation tasks, including chatbots, content generation, translation, and more.What are the Top Applications of Generative AI?Generative AI’s influence knows no bounds, revolutionizing industries, functions, and personas across the spectrum. From augmenting content creation to enhancing personalized education, healthcare, customer service, and marketing, the applications of Generative AI are\n",
      "text =  25\n",
      "\n",
      " boundless.We are breaking it into two different clusters where you can explore the applications of Generative AI by industry and functions.Applications Across IndustriesMarketing, Advertising, and Entertainment IndustryContent Creation: Generative AI powers content creation in the form of art, music, literature, and more. Artists and musicians employ AI to generate new pieces and explore innovative creative directions.Video Game Development: AI-driven generative systems create game\n",
      "text =  26\n",
      "\n",
      " environments, characters, and even dialogues, reducing the time and resources required for game development.Scriptwriting: Screenwriters and content creators leverage Generative AI to assist in scriptwriting by generating dialogues, plotlines, and character interactions.Education SectorPersonalized Learning: Generative AI adapts educational content to individual student needs by generating tailored assignments, quizzes, and study materials, promoting personalized learning experiences.Knowledge\n",
      "text =  27\n",
      "\n",
      " base: Generative AI can be used to create an exhaustive knowledge base which can be used by students to gain momentary information in a conversational style.Virtual Labs: Generative AI powers virtual laboratories, simulating experiments and scenarios for students studying science, engineering, and other practical disciplines.Healthcare IndustryMedical Image Generation: Generative AI is utilized to generate synthetic medical images for training machine learning models, enhancing diagnostic\n",
      "text =  28\n",
      "\n",
      " accuracy, and simulating rare medical conditions for educational purposes.Drug Discovery: Pharmaceutical companies employ Generative AI to discover new drug compounds by generating molecular structures, accelerating the drug development process.Personalized Medicine: AI-driven generative models analyze patient data to generate personalized treatment plans, accounting for genetic factors, medical history, and current health conditions.Manufacturing IndustryProduct Design: Generative design\n",
      "text =  29\n",
      "\n",
      " utilizes AI algorithms to generate optimized product designs, considering factors such as materials, weight, and structural integrity, streamlining the product development process.Quality Control: Generative AI models generate synthetic data for quality control testing, ensuring that manufacturing processes adhere to quality standards.Supply Chain Optimization: AI-generated demand forecasts and supply chain scenarios help manufacturers make informed decisions about production and\n",
      "text =  30\n",
      "\n",
      " distribution.Software & Tech IndustryCode Generation: Generative AI can assist developers by generating code snippets and templates for common programming tasks, speeding up development processes.Bug Detection: AI-powered tools can generate synthetic test cases and scenarios to help identify and fix software bugs more efficiently.IT Security: Generative AI models can simulate cyberattack scenarios to help IT departments identify vulnerabilities and enhance cybersecurity measures.Application by\n",
      "text =  31\n",
      "\n",
      " FunctionCustomer ServiceChatbots and Virtual Assistants: Generative AI powers intelligent chatbots and virtual assistants that handle customer inquiries, provide information, and troubleshoot issues 24/7.Sentiment Analysis: AI-generated sentiment analysis reports help customer service teams understand customer emotions and feedback, enabling more empathetic and effective responses.Automated Ticket Routing: Generative AI algorithms assist in routing customer inquiries to the right department or\n",
      "text =  32\n",
      "\n",
      " agent, optimizing response times and issue resolution.MarketingContent Generation: Generative AI assists marketers in generating high-quality and engaging content, including blog posts, social media updates, and ad copy.Personalization: AI algorithms use customer data to generate personalized marketing campaigns, tailoring content and recommendations for individual customers.A/B Testing: Generative AI can propose A/B testing ideas, helping marketers refine their strategies by predicting which\n",
      "text =  33\n",
      "\n",
      " variations will yield the best results.Human ResourcesAutomated Resume Screening: Generative AI accelerates the screening process by categorizing resumes based on different parameters like qualification, education, skill, etc.Personalized Learning Pathways: AI tailors employee development plans by generating customized training recommendations, automated evaluations, etc.Virtual HR Assistants: Chatbots powered by Generative AI can share policy information with employees, onboard new hires\n",
      "text =  34\n",
      "\n",
      " seamlessly, answer organizational questions, etc.SalesLead Generation and Scoring: Generative AI analyzes customer profiles to identify potential leads and generate targeted lists for sales teams by grouping them into priority buckets.Sales Content: AI assists in creating sales collateral such as pitch decks, sales emails, and product presentations to enhance the sales process.Price Optimization: Generative AI models can recommend pricing strategies and generate quotes based on market dynamics\n",
      "text =  35\n",
      "\n",
      " and customer data.Operations & Purchase:Maintenance Planning: Generative AI assists in predicting equipment maintenance needs, optimizing maintenance schedules, and reducing downtime.Vendor Selection: Generative AI analyzes vendor data and market trends to suggest suitable vendors, helping procurement departments make informed decisions.Supplier Negotiation: Generative AI provides negotiation strategies, assisting procurement professionals in securing favorable terms and pricing.Understanding\n",
      "text =  36\n",
      "\n",
      " the Limitations of Generative AI“(Generative) AI is like a glorified tape-recorder. It takes snippets of what’s on the web created by a human, splices them together and passes it off as if it created these things. And people are saying, ‘Oh my God, it’s a human, it’s humanlike.’” — Michio Kaku, Renowned Theoretical Physicist and FuturistOne of the key concerns of everyone out there is “Will ChatGPT take over my job?”. It’s very safe to assume that those fears are unwarranted, as Generative AI\n",
      "text =  37\n",
      "\n",
      " is not sentient. Yet.Sentient devices are still a future dream. Amid the buzz, it’s crucial to distinguish between the hype and the reality of this groundbreaking technology. Let us understand the limitations of Generative AI from a real-world perspective.Press enter or click to view image in full sizeUnderstanding ContextGenerative AI struggles to grasp context, leading to occasional nonsensical or irrelevant responses in natural language processing tasks.True CreativityWhile it can mimic\n",
      "text =  38\n",
      "\n",
      " creative styles, Generative AI lacks true creativity, imagination, and emotional depth. It relies on patterns and data rather than genuine inspiration.HallucinationsGenerative AI has the tendency to suffer from a condition known as hallucinations. AI hallucinations generate false content based on its own understanding of a scenario or context.Bias and FairnessGenerative AI models can inadvertently perpetuate biases present in their training data, leading to biased outputs that reflect societal\n",
      "text =  39\n",
      "\n",
      " prejudices.The Future of Generative AIThe story of Generative AI is far from over as it continuously learns and matures. The future of Generative AI holds remarkable promise, reshaping the way we interact with technology and solve complex problems. Striking a balance between harnessing its potential while addressing its challenges is crucial. We believe Generative AI will impact the following three areas in the future.Frequent Content Creation at SpeedWhile Generative AI has limitations in\n",
      "text =  40\n",
      "\n",
      " achieving true creativity, it can create multiple forms of content across wide topics at speed and scale. Simultaneously. This can be leveraged across industries, functions, and personas to drive organizational goals.Natural and Intuitive ConversationsVirtual assistants and chatbots will become even more capable of handling complex queries, providing personalized recommendations, and engaging in emotionally intelligent conversations. They will play a significant role in customer service,\n",
      "text =  41\n",
      "\n",
      " healthcare, and education.Personalization at ScaleGenerative AI will enable hyper-personalization across industries, from marketing to healthcare. AI systems will analyze vast amounts of data to deliver tailored experiences and recommendations. Personalized campaigns, content, and product recommendations will become the norm enhancing user satisfaction and engagement.The future will definitely be Generational. The question is are you ready to embrace the future?This blog was originally\n",
      "text =  42\n",
      "\n",
      " published in: https://www.purpleslate.com/generative-ai-guide/Generative AiAIGenerative Ai SolutionArtificial IntelligenceGenai----17Written by purpleSlate488 followers·61 followingPurpleslate is a Conversational AI startup driven by passion to reimagine next generation interfaces.Responses (17)See all responsesHelpStatusAboutCareersPressBlogPrivacyRulesTermsText to speech\n"
     ]
    }
   ],
   "source": [
    "split = RecursiveCharacterTextSplitter(\n",
    "    chunk_size=500,\n",
    "    chunk_overlap=0\n",
    ")\n",
    "\n",
    "text_split_result = split.split_documents(web_result)\n",
    "\n",
    "for index, result in enumerate(text_split_result):\n",
    "    print(\"text = \", index)\n",
    "    print(\"\\n\", result.page_content)"
   ]
  },
  {
   "cell_type": "code",
   "execution_count": 9,
   "id": "5469a60e",
   "metadata": {},
   "outputs": [
    {
     "name": "stdout",
     "output_type": "stream",
     "text": [
      "<langchain_community.vectorstores.faiss.FAISS object at 0x000002188954EE40>\n"
     ]
    }
   ],
   "source": [
    "vector_store = FAISS.from_documents(documents=text_split_result, embedding=embedding_model)"
   ]
  },
  {
   "cell_type": "code",
   "execution_count": 10,
   "id": "aea02835",
   "metadata": {},
   "outputs": [
    {
     "name": "stdout",
     "output_type": "stream",
     "text": [
      "tags=['FAISS', 'GoogleGenerativeAIEmbeddings'] vectorstore=<langchain_community.vectorstores.faiss.FAISS object at 0x000002188954EE40> search_type='mmr' search_kwargs={'k': 5, 'lambda_mult': 0.4}\n"
     ]
    }
   ],
   "source": [
    "retriever = vector_store.as_retriever (\n",
    "    search_type='mmr',\n",
    "    search_kwargs={'k':5, 'lambda_mult':0.4}\n",
    ")\n",
    "\n",
    "print(retriever)"
   ]
  },
  {
   "cell_type": "code",
   "execution_count": 11,
   "id": "67a6fb12",
   "metadata": {},
   "outputs": [],
   "source": [
    "compressor = LLMChainExtractor.from_llm(llm_model)\n",
    "\n",
    "compressed_retriver = ContextualCompressionRetriever(\n",
    "    base_retriever=retriever,\n",
    "    base_compressor=compressor\n",
    ")"
   ]
  },
  {
   "cell_type": "code",
   "execution_count": null,
   "id": "6db0add3",
   "metadata": {},
   "outputs": [],
   "source": [
    "user_query = 'what is Generative Pre-trained Transformers (GPT)'\n",
    "result = compressed_retriver.invoke(user_query)"
   ]
  },
  {
   "cell_type": "code",
   "execution_count": 10,
   "id": "470b7a87-d2e7-4d6f-a9f2-8e68270598e3",
   "metadata": {},
   "outputs": [
    {
     "name": "stdout",
     "output_type": "stream",
     "text": [
      "What is Artificial Intelligence and How Does it Work? For Beginners!\n",
      "Demystifying Artificial Intelligence: Understanding AI Basics for Non-Programmers\n",
      "In this article, we will delve deep into the world of AI, exploring its core principles, practical applications, and future implications.\n"
     ]
    }
   ],
   "source": [
    "print(result[0].page_content)"
   ]
  },
  {
   "cell_type": "code",
   "execution_count": null,
   "id": "ad1a5b83-d1e3-4787-9e67-ad47f7cefcb7",
   "metadata": {},
   "outputs": [],
   "source": []
  }
 ],
 "metadata": {
  "kernelspec": {
   "display_name": "Python 3 (ipykernel)",
   "language": "python",
   "name": "python3"
  },
  "language_info": {
   "codemirror_mode": {
    "name": "ipython",
    "version": 3
   },
   "file_extension": ".py",
   "mimetype": "text/x-python",
   "name": "python",
   "nbconvert_exporter": "python",
   "pygments_lexer": "ipython3",
   "version": "3.13.5"
  }
 },
 "nbformat": 4,
 "nbformat_minor": 5
}
