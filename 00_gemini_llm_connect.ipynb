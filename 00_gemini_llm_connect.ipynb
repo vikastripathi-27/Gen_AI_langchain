{
 "cells": [
  {
   "cell_type": "code",
   "execution_count": 5,
   "id": "199c8ecd-ba03-4a0f-b835-ae0d1933ff0b",
   "metadata": {},
   "outputs": [],
   "source": [
    "# Install the required packages first:\n",
    "# pip install langchain langchain-google-genai python-dotenv\n",
    "\n",
    "import os\n",
    "from langchain_google_genai import ChatGoogleGenerativeAI\n",
    "from langchain.schema import SystemMessage, HumanMessage\n",
    "from dotenv import load_dotenv\n",
    "\n",
    "# Load environment variables from .env file (optional)\n",
    "load_dotenv()\n",
    "\n",
    "# Access your key\n",
    "api_key = os.getenv(\"gemini_api_key\")"
   ]
  },
  {
   "cell_type": "code",
   "execution_count": null,
   "id": "2059149b-22a3-4b91-8bb9-dca28e456d9b",
   "metadata": {},
   "outputs": [],
   "source": [
    "# Initialize Gemini LLM through LangChain\n",
    "llm = ChatGoogleGenerativeAI(\n",
    "    model=\"gemini-2.5-flash\",  # Text-based Gemini model\n",
    "    temperature=0.2,      # Low temperature for factual output\n",
    "    google_api_key=api_key\n",
    ")\n",
    "\n",
    "messages = [\n",
    "    SystemMessage(content=\"You are a data analyst.\"),\n",
    "    HumanMessage(content=\"what is power bi?'\")\n",
    "]\n",
    "# Send the request to Gemini\n",
    "response = llm.invoke(messages)\n",
    "\n",
    "# Print output\n",
    "print(\"Model Output:\\n\", response.content)\n"
   ]
  }
 ],
 "metadata": {
  "kernelspec": {
   "display_name": "Python 3 (ipykernel)",
   "language": "python",
   "name": "python3"
  },
  "language_info": {
   "codemirror_mode": {
    "name": "ipython",
    "version": 3
   },
   "file_extension": ".py",
   "mimetype": "text/x-python",
   "name": "python",
   "nbconvert_exporter": "python",
   "pygments_lexer": "ipython3",
   "version": "3.13.5"
  }
 },
 "nbformat": 4,
 "nbformat_minor": 5
}
