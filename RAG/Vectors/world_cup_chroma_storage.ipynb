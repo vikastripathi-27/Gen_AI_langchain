{
 "cells": [
  {
   "cell_type": "code",
   "execution_count": null,
   "id": "5244f4ed-667d-4f82-ab53-c1c9408be2c9",
   "metadata": {},
   "outputs": [],
   "source": [
    "from langchain_google_genai import GoogleGenerativeAIEmbeddings\n",
    "from langchain.vectorstores import Chroma\n",
    "from dotenv import load_dotenv\n",
    "from langchain_community.document_loaders import PyPDFLoader\n",
    "\n",
    "load_dotenv()"
   ]
  },
  {
   "cell_type": "code",
   "execution_count": null,
   "id": "ca4a521e-7d6d-4cb2-9a8a-a18e6861ee89",
   "metadata": {},
   "outputs": [],
   "source": [
    "# load the pdf file via document loader\n",
    "pdf_load = PyPDFLoader(\n",
    "    file_path='../files/Digital Campus - Black Book.pdf'\n",
    ")\n",
    "\n",
    "doc = pdf_load.load()\n"
   ]
  },
  {
   "cell_type": "code",
   "execution_count": null,
   "id": "e3bd60d2-4c9b-4298-8c6a-666bb3c4142f",
   "metadata": {},
   "outputs": [],
   "source": [
    "embeddings = GoogleGenerativeAIEmbeddings(model='models/embedding-001')\n",
    "\n",
    "vector_store = Chroma(\n",
    "    embedding_function=embeddings,\n",
    "    persist_directory='../Vectors/Database/'\n",
    ")"
   ]
  },
  {
   "cell_type": "code",
   "execution_count": null,
   "id": "58aa8f14-137c-4b5c-aefa-971b4797baae",
   "metadata": {},
   "outputs": [],
   "source": [
    "# adding documents\n",
    "vector_store.add_documents(doc)"
   ]
  },
  {
   "cell_type": "code",
   "execution_count": null,
   "id": "f9cb51ad-76e4-4147-be20-0513062454df",
   "metadata": {},
   "outputs": [],
   "source": [
    "# view documents\n",
    "vector_store.get(include=['embeddings','documents', 'metadatas'])"
   ]
  },
  {
   "cell_type": "code",
   "execution_count": null,
   "id": "d591a1e5-7946-4762-b6ea-9249d5fe5fce",
   "metadata": {},
   "outputs": [],
   "source": [
    "# search documents\n",
    "vector_store.similarity_search(\n",
    "    query='What is the project about?',\n",
    "    k=1\n",
    ")"
   ]
  },
  {
   "cell_type": "code",
   "execution_count": null,
   "id": "f7e0e1ce-870e-44d1-8714-d78734f58aad",
   "metadata": {},
   "outputs": [],
   "source": [
    "# search with similarity score\n",
    "# less the similarity score means less distance .. the better matching\n",
    "result = vector_store.similarity_search_with_score(\n",
    "    query='What is the project about?',\n",
    "    k=1\n",
    ")\n",
    "\n",
    "# getting the valaues\n",
    "print(\"Metadata === \\n\", result[0][0].metadata)\n",
    "print(\"\\nContents === \\n\", result[0][0].page_content)"
   ]
  },
  {
   "cell_type": "code",
   "execution_count": null,
   "id": "3b691fb4-26ca-4666-bbdd-74e48ec4dbca",
   "metadata": {},
   "outputs": [],
   "source": []
  }
 ],
 "metadata": {
  "kernelspec": {
   "display_name": "Python 3 (ipykernel)",
   "language": "python",
   "name": "python3"
  },
  "language_info": {
   "codemirror_mode": {
    "name": "ipython",
    "version": 3
   },
   "file_extension": ".py",
   "mimetype": "text/x-python",
   "name": "python",
   "nbconvert_exporter": "python",
   "pygments_lexer": "ipython3",
   "version": "3.13.5"
  }
 },
 "nbformat": 4,
 "nbformat_minor": 5
}
