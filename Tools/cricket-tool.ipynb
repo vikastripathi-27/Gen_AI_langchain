{
 "cells": [
  {
   "cell_type": "code",
   "execution_count": 1,
   "id": "fb92213c-c4a9-4f68-af1b-181befc6dde0",
   "metadata": {},
   "outputs": [],
   "source": [
    "import requests\n",
    "from langchain_core.tools import tool\n",
    "from langchain_google_genai import ChatGoogleGenerativeAI\n",
    "from dotenv import load_dotenv\n",
    "from langchain_core.messages import HumanMessage\n",
    "from datetime import datetime\n",
    "import os\n",
    "\n",
    "load_dotenv()\n",
    "cricbuzz_api_key = os.getenv(\"CRICBUZZ_API_TOKEN\")"
   ]
  },
  {
   "cell_type": "code",
   "execution_count": 2,
   "id": "ec7b5a71-2018-463a-8f55-d8631c906917",
   "metadata": {},
   "outputs": [],
   "source": [
    "@tool\n",
    "def cricbuzz_data():\n",
    "    #mandatory to give function description\n",
    "    '''\n",
    "    This function fetches data related to international cricket series\n",
    "    '''\n",
    "    \n",
    "    url = \"https://cricbuzz-cricket.p.rapidapi.com/series/v1/international\"\n",
    "    headers = {\n",
    "    \t\"x-rapidapi-key\": cricbuzz_api_key,\n",
    "    \t\"x-rapidapi-host\": \"cricbuzz-cricket.p.rapidapi.com\"\n",
    "    }\n",
    "    response = requests.get(url, headers=headers)\n",
    "    result = response.json()\n",
    "    \n",
    "    cricket_data = []\n",
    "    data = result\n",
    "\n",
    "    # Access each month and its series based on json data\n",
    "    for month_data in data['seriesMapProto']:\n",
    "        cricket_data.append(f\"Month: {month_data['date']}\")\n",
    "        # Access each series in that month\n",
    "        for series in month_data['series']:\n",
    "            series = f\"Series name: {series['name']}\"\n",
    "            cricket_data.append(series)\n",
    "    return cricket_data"
   ]
  },
  {
   "cell_type": "code",
   "execution_count": 4,
   "id": "755c24e0-98fb-466a-893f-6b52ab3b5e68",
   "metadata": {},
   "outputs": [],
   "source": [
    "llm_model = ChatGoogleGenerativeAI(\n",
    "    model='gemini-2.5-flash',\n",
    "    temperature=0\n",
    ")"
   ]
  },
  {
   "cell_type": "code",
   "execution_count": 5,
   "id": "558b25d9-8b77-41d2-acad-4bf5863da356",
   "metadata": {},
   "outputs": [],
   "source": [
    "llm_tools = llm_model.bind_tools([cricbuzz_data])"
   ]
  },
  {
   "cell_type": "code",
   "execution_count": 6,
   "id": "0d9e12e9-39b1-409e-8224-92ace0bb1770",
   "metadata": {},
   "outputs": [],
   "source": [
    "message = [HumanMessage('Can you provide me a list of internatinal cricket series from year 2026 onwards?')]"
   ]
  },
  {
   "cell_type": "code",
   "execution_count": 7,
   "id": "2f3e5118-1e02-4b4f-b6b8-edd0d952c329",
   "metadata": {},
   "outputs": [
    {
     "name": "stdout",
     "output_type": "stream",
     "text": [
      "content='' additional_kwargs={'function_call': {'name': 'cricbuzz_data', 'arguments': '{}'}} response_metadata={'prompt_feedback': {'block_reason': 0, 'safety_ratings': []}, 'finish_reason': 'STOP', 'safety_ratings': []} id='run--9759e5b5-16c6-4ec9-9f1f-b45d3c9d3990-0' tool_calls=[{'name': 'cricbuzz_data', 'args': {}, 'id': '715d7126-0b0e-4289-aa71-820088732567', 'type': 'tool_call'}] usage_metadata={'input_tokens': 54, 'output_tokens': 12, 'total_tokens': 331, 'input_token_details': {'cache_read': 0}}\n"
     ]
    }
   ],
   "source": [
    "# response from llm\n",
    "# this will contain that a tool is to be used as the question is related to the tool we have created\n",
    "ai_message = llm_tools.invoke(message)\n",
    "print(ai_message)"
   ]
  },
  {
   "cell_type": "code",
   "execution_count": 8,
   "id": "d8e60b5f-ab17-4353-b0a0-a72d9bdfd346",
   "metadata": {},
   "outputs": [
    {
     "name": "stdout",
     "output_type": "stream",
     "text": [
      "[HumanMessage(content='Can you provide me a list of internatinal cricket series from year 2026 onwards?', additional_kwargs={}, response_metadata={}), AIMessage(content='', additional_kwargs={'function_call': {'name': 'cricbuzz_data', 'arguments': '{}'}}, response_metadata={'prompt_feedback': {'block_reason': 0, 'safety_ratings': []}, 'finish_reason': 'STOP', 'safety_ratings': []}, id='run--9759e5b5-16c6-4ec9-9f1f-b45d3c9d3990-0', tool_calls=[{'name': 'cricbuzz_data', 'args': {}, 'id': '715d7126-0b0e-4289-aa71-820088732567', 'type': 'tool_call'}], usage_metadata={'input_tokens': 54, 'output_tokens': 12, 'total_tokens': 331, 'input_token_details': {'cache_read': 0}})]\n"
     ]
    }
   ],
   "source": [
    "# storing the history so the llm knows what is the context\n",
    "message.append(ai_message)\n",
    "print(message)"
   ]
  },
  {
   "cell_type": "code",
   "execution_count": 9,
   "id": "873637b3-92d7-4003-8f25-746bb0b3d09a",
   "metadata": {},
   "outputs": [
    {
     "data": {
      "text/plain": [
       "[{'name': 'cricbuzz_data',\n",
       "  'args': {},\n",
       "  'id': '715d7126-0b0e-4289-aa71-820088732567',\n",
       "  'type': 'tool_call'}]"
      ]
     },
     "execution_count": 9,
     "metadata": {},
     "output_type": "execute_result"
    }
   ],
   "source": [
    "# if multiple tool calls happens then it will show list of all tools\n",
    "ai_message.tool_calls"
   ]
  },
  {
   "cell_type": "code",
   "execution_count": 10,
   "id": "66aee879-8d71-4cc2-bd14-b1e28ad6f016",
   "metadata": {},
   "outputs": [],
   "source": [
    "for tool_calling in ai_message.tool_calls:\n",
    "    if tool_calling['name'] == 'cricbuzz_data':\n",
    "        #execution of the tool if the tool name is called\n",
    "        #can be used if else in case of multiple tools\n",
    "        #passes args to the tool; in this case no use of argument so nothing is passed\n",
    "        tool_msg = cricbuzz_data.invoke(tool_calling)\n",
    "        message.append(tool_msg)"
   ]
  },
  {
   "cell_type": "code",
   "execution_count": 11,
   "id": "a560c2e2-f4ba-4402-8325-6eca17f1dbf3",
   "metadata": {},
   "outputs": [
    {
     "data": {
      "text/plain": [
       "[HumanMessage(content='Can you provide me a list of internatinal cricket series from year 2026 onwards?', additional_kwargs={}, response_metadata={}),\n",
       " AIMessage(content='', additional_kwargs={'function_call': {'name': 'cricbuzz_data', 'arguments': '{}'}}, response_metadata={'prompt_feedback': {'block_reason': 0, 'safety_ratings': []}, 'finish_reason': 'STOP', 'safety_ratings': []}, id='run--9759e5b5-16c6-4ec9-9f1f-b45d3c9d3990-0', tool_calls=[{'name': 'cricbuzz_data', 'args': {}, 'id': '715d7126-0b0e-4289-aa71-820088732567', 'type': 'tool_call'}], usage_metadata={'input_tokens': 54, 'output_tokens': 12, 'total_tokens': 331, 'input_token_details': {'cache_read': 0}}),\n",
       " ToolMessage(content=['Month: FEBRUARY 2024', 'Series name: ICC Cricket World Cup League Two 2023-27', 'Month: AUGUST 2025', 'Series name: South Africa tour of Australia, 2025', 'Series name: India tour of Bangladesh, 2025 (Called off)', 'Series name: Czech Republic tour of Romania 2025', 'Series name: Belgium tour of Austria 2025', 'Series name: Eastern Europe Cup 2025', 'Series name: United Arab Emirates T20I Tri-Series 2025', 'Series name: Sri Lanka tour of Zimbabwe, 2025', 'Series name: Guernsey Tri-Nation T20I Series 2025', 'Series name: Netherlands tour of Bangladesh 2025', 'Month: SEPTEMBER 2025', 'Series name: South Africa tour of England, 2025', 'Series name: Sweden tour of Isle Of Man 2025', 'Series name: Asia Cup 2025', 'Series name: England tour of Ireland, 2025', 'Series name: West Indies vs Nepal in UAE, 2025', 'Series name: Australia tour of New Zealand, 2025', 'Month: OCTOBER 2025', 'Series name: West Indies tour of India, 2025', 'Series name: ICC Mens T20 World Cup East Asia Pacific Qualifier 2025', 'Series name: South Africa tour of Namibia 2025', 'Series name: England tour of New Zealand, 2025', 'Series name: India tour of Australia, 2025', 'Month: NOVEMBER 2025', 'Series name: West Indies tour of New Zealand, 2025', 'Series name: South Africa tour of India, 2025', 'Series name: The Ashes, 2025-26', 'Month: JANUARY 2026', 'Series name: New Zealand tour of India, 2026', 'Series name: England tour of Sri Lanka 2026', 'Series name: West Indies tour of South Africa, 2026', 'Month: MARCH 2026', 'Series name: South Africa tour of New Zealand, 2026', 'Month: JUNE 2026', 'Series name: New Zealand tour of England, 2026', 'Series name: India tour of England, 2026', 'Month: AUGUST 2026', 'Series name: Pakistan tour of England 2026', 'Month: SEPTEMBER 2026', 'Series name: Sri Lanka tour of England, 2026'], name='cricbuzz_data', tool_call_id='715d7126-0b0e-4289-aa71-820088732567')]"
      ]
     },
     "execution_count": 11,
     "metadata": {},
     "output_type": "execute_result"
    }
   ],
   "source": [
    "message"
   ]
  },
  {
   "cell_type": "code",
   "execution_count": 12,
   "id": "33609552-fb6a-4c70-801c-8e488f9f321d",
   "metadata": {},
   "outputs": [],
   "source": [
    "# push entire history to llm to extract only relevant context\n",
    "final_result = llm_tools.invoke(message)"
   ]
  },
  {
   "cell_type": "code",
   "execution_count": 13,
   "id": "b1528e32-c096-4a01-9b1e-978d8b8117c3",
   "metadata": {},
   "outputs": [
    {
     "name": "stdout",
     "output_type": "stream",
     "text": [
      "Here is a list of international cricket series from 2026 onwards:\n",
      "\n",
      "*   New Zealand tour of India, 2026\n",
      "*   England tour of Sri Lanka 2026\n",
      "*   West Indies tour of South Africa, 2026\n",
      "*   South Africa tour of New Zealand, 2026\n",
      "*   New Zealand tour of England, 2026\n",
      "*   India tour of England, 2026\n",
      "*   Pakistan tour of England 2026\n",
      "*   Sri Lanka tour of England, 2026\n"
     ]
    }
   ],
   "source": [
    "print(final_result.content)"
   ]
  }
 ],
 "metadata": {
  "kernelspec": {
   "display_name": "Python 3 (ipykernel)",
   "language": "python",
   "name": "python3"
  },
  "language_info": {
   "codemirror_mode": {
    "name": "ipython",
    "version": 3
   },
   "file_extension": ".py",
   "mimetype": "text/x-python",
   "name": "python",
   "nbconvert_exporter": "python",
   "pygments_lexer": "ipython3",
   "version": "3.13.5"
  }
 },
 "nbformat": 4,
 "nbformat_minor": 5
}
